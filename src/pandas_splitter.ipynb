{
 "cells": [
  {
   "cell_type": "code",
   "execution_count": 31,
   "metadata": {},
   "outputs": [],
   "source": [
    "from os import scandir\n",
    "from os.path import join\n",
    "\n",
    "import numpy as np\n",
    "import pandas as pd\n",
    "\n",
    "from src.utils.utils import get_dummy_labels, stratified_train_test_split"
   ]
  },
  {
   "cell_type": "code",
   "execution_count": 62,
   "metadata": {},
   "outputs": [
    {
     "name": "stdout",
     "output_type": "stream",
     "text": [
      "../datasets/splitted_dataset/val/COVID\n",
      "../datasets/splitted_dataset/val/Lung_Opacity\n",
      "../datasets/splitted_dataset/val/Normal\n",
      "../datasets/splitted_dataset/val/Viral Pneumonia\n"
     ]
    }
   ],
   "source": [
    "_set = \"val\"\n",
    "\n",
    "dataset_dir = f\"../datasets/splitted_dataset/{_set}\"\n",
    "\n",
    "for entry in scandir(dataset_dir):\n",
    "    if entry.is_dir():\n",
    "        print(entry.path)"
   ]
  },
  {
   "cell_type": "code",
   "execution_count": 63,
   "metadata": {},
   "outputs": [],
   "source": [
    "data_df = pd.DataFrame(columns=[\"Image Index\", \"Finding Labels\", \"Path\"])\n",
    "\n",
    "for entry in scandir(dataset_dir):\n",
    "    if entry.is_dir():\n",
    "        label = entry.name\n",
    "        img_list = [img for img in scandir(entry.path) if img.is_file() and img.name.endswith(\".png\")]\n",
    "        data_df = pd.concat(\n",
    "            [\n",
    "                data_df,\n",
    "                pd.DataFrame(\n",
    "                    {\n",
    "                        \"Image Index\": [img.name for img in img_list],\n",
    "                        \"Finding Labels\": label,\n",
    "                        # \"Path\": [entry.path.removeprefix(f\"../datasets/splitted_dataset/{_set}/\") for img in img_list],\n",
    "                        \"Path\": [entry.path.replace(f\"../datasets/splitted_dataset/{_set}\", \"COVID-19_Radiography_Dataset\") for img in img_list],\n",
    "                    }\n",
    "                ),\n",
    "            ],\n",
    "            ignore_index=True,\n",
    "        )"
   ]
  },
  {
   "cell_type": "code",
   "execution_count": 64,
   "metadata": {},
   "outputs": [],
   "source": []
  },
  {
   "cell_type": "code",
   "execution_count": 65,
   "metadata": {},
   "outputs": [],
   "source": [
    "data_df = get_dummy_labels(data_df)\n",
    "\n",
    "data_df.to_csv(f\"../datasets/csv_splits/COVID-19_Radiography_Dataset_{_set}.csv\", index=False)"
   ]
  },
  {
   "cell_type": "code",
   "execution_count": null,
   "metadata": {},
   "outputs": [],
   "source": []
  },
  {
   "cell_type": "code",
   "execution_count": 30,
   "metadata": {},
   "outputs": [],
   "source": [
    "data_df = get_dummy_labels(data_df)\n",
    "\n",
    "train_df, test_df = stratified_train_test_split(data_df)\n",
    "train_df, val_df = stratified_train_test_split(train_df)"
   ]
  },
  {
   "cell_type": "code",
   "execution_count": 15,
   "metadata": {},
   "outputs": [],
   "source": [
    "# train_df.to_csv(\"datasets/csv_splits/COVID-19_Radiography_Dataset_train.csv\", index=False)\n",
    "# val_df.to_csv(\"datasets/csv_splits/COVID-19_Radiography_Dataset_val.csv\", index=False)\n",
    "# test_df.to_csv(\"datasets/csv_splits/COVID-19_Radiography_Dataset_test.csv\", index=False)"
   ]
  },
  {
   "cell_type": "code",
   "execution_count": 37,
   "metadata": {},
   "outputs": [],
   "source": [
    "_img_names = train_df[\"Image Index\"].values\n",
    "_paths = train_df[\"Path\"].values\n",
    "# _data_df = torch.tensor(data_df.drop(columns=[\"Finding Labels\", \"Path\"]).values)\n",
    "# data_df"
   ]
  },
  {
   "cell_type": "code",
   "execution_count": 32,
   "metadata": {},
   "outputs": [
    {
     "data": {
      "text/plain": [
       "array([[1, 0, 0, 0],\n",
       "       [1, 0, 0, 0],\n",
       "       [1, 0, 0, 0],\n",
       "       ...,\n",
       "       [0, 0, 0, 1],\n",
       "       [0, 0, 0, 1],\n",
       "       [0, 0, 0, 1]])"
      ]
     },
     "execution_count": 32,
     "metadata": {},
     "output_type": "execute_result"
    }
   ],
   "source": [
    "_data_df = data_df.drop(columns=[\"Image Index\", \"Finding Labels\", \"Path\"]).values\n",
    "_data_df"
   ]
  },
  {
   "cell_type": "code",
   "execution_count": 35,
   "metadata": {},
   "outputs": [
    {
     "data": {
      "text/plain": [
       "array([[1, 0, 0, 0],\n",
       "       [1, 0, 0, 0],\n",
       "       [1, 0, 0, 0],\n",
       "       ...,\n",
       "       [0, 0, 0, 1],\n",
       "       [0, 0, 0, 1],\n",
       "       [0, 0, 0, 1]])"
      ]
     },
     "execution_count": 35,
     "metadata": {},
     "output_type": "execute_result"
    }
   ],
   "source": [
    "_data_df"
   ]
  }
 ],
 "metadata": {
  "kernelspec": {
   "display_name": "data_analyzer",
   "language": "python",
   "name": "python3"
  },
  "language_info": {
   "codemirror_mode": {
    "name": "ipython",
    "version": 3
   },
   "file_extension": ".py",
   "mimetype": "text/x-python",
   "name": "python",
   "nbconvert_exporter": "python",
   "pygments_lexer": "ipython3",
   "version": "3.9.18"
  }
 },
 "nbformat": 4,
 "nbformat_minor": 2
}
